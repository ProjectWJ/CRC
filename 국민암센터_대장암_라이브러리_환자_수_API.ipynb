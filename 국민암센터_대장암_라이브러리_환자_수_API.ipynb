{
  "nbformat": 4,
  "nbformat_minor": 0,
  "metadata": {
    "colab": {
      "provenance": [],
      "authorship_tag": "ABX9TyOcqY8cHswborhooR2jQZtK",
      "include_colab_link": true
    },
    "kernelspec": {
      "name": "python3",
      "display_name": "Python 3"
    },
    "language_info": {
      "name": "python"
    }
  },
  "cells": [
    {
      "cell_type": "markdown",
      "metadata": {
        "id": "view-in-github",
        "colab_type": "text"
      },
      "source": [
        "<a href=\"https://colab.research.google.com/github/inhaWJ/CRC/blob/main/%EA%B5%AD%EB%AF%BC%EC%95%94%EC%84%BC%ED%84%B0_%EB%8C%80%EC%9E%A5%EC%95%94_%EB%9D%BC%EC%9D%B4%EB%B8%8C%EB%9F%AC%EB%A6%AC_%ED%99%98%EC%9E%90_%EC%88%98_API.ipynb\" target=\"_parent\"><img src=\"https://colab.research.google.com/assets/colab-badge.svg\" alt=\"Open In Colab\"/></a>"
      ]
    },
    {
      "cell_type": "markdown",
      "source": [
        "# 국민암센터_대장암 라이브러리 환자 수 API\n",
        "\n",
        "국립암센터 대장암 라이브러리 환자수 집계 정보 서비스에 다양한 집계 데이터를 조회할 수 있는 서비스\n",
        "\n",
        "https://www.data.go.kr/data/15076997/openapi.do\n",
        "\n",
        "---"
      ],
      "metadata": {
        "id": "2GVkhGohC8d9"
      }
    },
    {
      "cell_type": "markdown",
      "source": [
        "# 과정\n",
        "## 1. 라이브러리 import 및 URL과 DataFrame 준비\n",
        "## 2. 모든 데이터를 불러오기 위해 총 반복수 구하기\n",
        "## 3. API 호출 및 데이터 저장\n",
        "## 4. CSV 파일로 보존"
      ],
      "metadata": {
        "id": "SClgbD3gGjI4"
      }
    },
    {
      "cell_type": "code",
      "execution_count": 39,
      "metadata": {
        "id": "6C7qpMwLLdRV",
        "colab": {
          "base_uri": "https://localhost:8080/"
        },
        "outputId": "be38c7fb-cc04-4e4f-907b-4efb0df28ff9"
      },
      "outputs": [
        {
          "output_type": "stream",
          "name": "stdout",
          "text": [
            "217\n"
          ]
        }
      ],
      "source": [
        "import requests\n",
        "import json\n",
        "import pandas as pd\n",
        "import math\n",
        "from pandas.io.json import json_normalize\n",
        "\n",
        "\n",
        "url = 'http://apis.data.go.kr/B551172/Colon03/voJobByType'\n",
        "finalTotalData = pd.DataFrame()\n",
        "\n",
        "# numOfRows로 한 번에 불러들일 수 있는 데이터에 제한이 있다.\n",
        "# 따라서 모든 데이터를 불러오기 위해선 반복문을 활용해야 한다.\n",
        "# 모든 데이터를 불러올 총 페이지(pages) 구하기\n",
        "params = {'serviceKey' : '5NeRQmBlM/uKP00upJkVo0R4vL85JPW84kic6a4EqlIpMTtq5oszKHwKRQ+CJ798HT/dP/c2IadJYpHuWTe47A==', 'pageNo' : 1, 'numOfRows' : '1', 'type' : 'json' }\n",
        "\n",
        "for_rs = requests.get(url, params=params)\n",
        "contents = for_rs.text\n",
        "ob = json.loads(contents)\n",
        "\n",
        "rows = ob['response']['totalCount']\n",
        "pages = int(int(rows)/100) + 1\n",
        "\n",
        "for i in range(1, pages + 1):\n",
        "  # 1페이지당 100개의 데이터를 불러온다. 센터명, 시작연도, 종료연도는 제한을 두지 않는다. 모든 데이터가 불러지도록\n",
        "  params = {'serviceKey' : '5NeRQmBlM/uKP00upJkVo0R4vL85JPW84kic6a4EqlIpMTtq5oszKHwKRQ+CJ798HT/dP/c2IadJYpHuWTe47A==', 'pageNo' : i, 'numOfRows' : '100', 'type' : 'json' }\n",
        "  \n",
        "  # api 호출\n",
        "  response = requests.get(url, params=params)\n",
        "  contents = response.text\n",
        "  ob = json.loads(contents)\n",
        "\n",
        "  bd = ob['response']['items']['item']\n",
        "\n",
        "  # 불러들인 데이터를 하나로 모음\n",
        "  finalTotalData = pd.concat([finalTotalData, pd.DataFrame(bd)], axis = 0, ignore_index = True)\n",
        "\n",
        "  # csv 파일로 저장\n",
        "finalTotalData.to_csv('cancerData.csv', encoding='cp949', index = False)"
      ]
    }
  ]
}

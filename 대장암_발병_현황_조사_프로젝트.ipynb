{
  "nbformat": 4,
  "nbformat_minor": 0,
  "metadata": {
    "colab": {
      "provenance": [],
      "authorship_tag": "ABX9TyPlIShy7SPINJrL+6rK+U6u",
      "include_colab_link": true
    },
    "kernelspec": {
      "name": "python3",
      "display_name": "Python 3"
    },
    "language_info": {
      "name": "python"
    }
  },
  "cells": [
    {
      "cell_type": "markdown",
      "metadata": {
        "id": "view-in-github",
        "colab_type": "text"
      },
      "source": [
        "<a href=\"https://colab.research.google.com/github/inhaWJ/CRC/blob/main/%EB%8C%80%EC%9E%A5%EC%95%94_%EB%B0%9C%EB%B3%91_%ED%98%84%ED%99%A9_%EC%A1%B0%EC%82%AC_%ED%94%84%EB%A1%9C%EC%A0%9D%ED%8A%B8.ipynb\" target=\"_parent\"><img src=\"https://colab.research.google.com/assets/colab-badge.svg\" alt=\"Open In Colab\"/></a>"
      ]
    },
    {
      "cell_type": "markdown",
      "source": [
        "# **직종, 연령, 성별 별 대장암 발병 조사 및 분류 프로젝트**\n",
        "\n",
        "\n",
        "## 1. 환경 설정 및 데이터 준비\n",
        "**1.1 한글 폰트 설치**\n",
        "\n",
        "**1.2 런타임 재시작**\n",
        "\n",
        "**1.3 한글 폰트 설정**\n",
        "\n",
        "**1.4 데이터 준비**\n",
        "\n",
        "**csv파일 : https://github.com/inhaWJ/CRC/blob/main/%EA%B5%AD%EB%AF%BC%EC%95%94%EC%84%BC%ED%84%B0_%EB%8C%80%EC%9E%A5%EC%95%94_%EB%9D%BC%EC%9D%B4%EB%B8%8C%EB%9F%AC%EB%A6%AC_%ED%99%98%EC%9E%90_%EC%88%98_API.ipynb**\n",
        "\n",
        "---\n",
        "\n",
        "## 2. 직업으로 분류한 대장암 환자 수\n",
        "**2.1 대장암 환자 직업 조사**\n",
        "\n",
        "**2.2 직업 유무에 따른 대장암 환자 수**\n",
        "\n",
        "---\n",
        "\n",
        "## 3. 연령으로 분류한 대장암 환자 수\n",
        "**3.1 대장암 환자 연령 조사**\n",
        "\n",
        "**3.2 연령대로 나눈 환자 수**\n",
        "\n",
        "---\n",
        "\n",
        "## 4. 성별로 분류한 대장암 환자 수\n",
        "**4.1 대장암 환자의 남녀 비율 조사**\n",
        "\n",
        "---\n",
        "\n",
        "## 5. 연도로 분류한 대장암 환자 수\n",
        "**5.1 연도별 대장암 환자 수 조사**\n",
        "\n",
        "---"
      ],
      "metadata": {
        "id": "GEPASM8SY-mi"
      }
    },
    {
      "cell_type": "markdown",
      "source": [
        "## 1. 환경 설정 및 데이터 준비\n",
        "\n",
        "---\n",
        "\n"
      ],
      "metadata": {
        "id": "X_xENadc_rGV"
      }
    },
    {
      "cell_type": "markdown",
      "source": [
        "\n",
        "> 1.1 한글 폰트 설치\n"
      ],
      "metadata": {
        "id": "GSFx18sX1jHL"
      }
    },
    {
      "cell_type": "code",
      "source": [
        "import matplotlib.font_manager as fm\n",
        "\n",
        "!apt-get -qq -y install fonts-nanum > /dev/null\n",
        "fontpath = '/usr/share/fonts/truetype/nanum/NanumBarunGothic.ttf'\n",
        "font = fm.FontProperties(fname=fontpath, size=9)\n",
        "fm._rebuild()"
      ],
      "metadata": {
        "id": "t3EkIoAXSLSm"
      },
      "execution_count": 3,
      "outputs": []
    },
    {
      "cell_type": "markdown",
      "source": [
        "\n",
        "\n",
        "> 1.2 런타임 재시작\n",
        "\n"
      ],
      "metadata": {
        "id": "3Kt2AF9F1v7s"
      }
    },
    {
      "cell_type": "code",
      "source": [
        "import os\n",
        "os.kill(os.getpid(), 9)"
      ],
      "metadata": {
        "id": "rvXzRoriSXkF"
      },
      "execution_count": null,
      "outputs": []
    },
    {
      "cell_type": "markdown",
      "source": [
        "\n",
        "\n",
        "> 1.3 한글 폰트 설정\n",
        "\n"
      ],
      "metadata": {
        "id": "phpDETJT11dw"
      }
    },
    {
      "cell_type": "code",
      "source": [
        "\n",
        "import matplotlib.pyplot as plt\n",
        "import matplotlib as mpl\n",
        "import matplotlib.font_manager as fm\n",
        "\n",
        "# 마이너스 표시 문제\n",
        "mpl.rcParams['axes.unicode_minus'] = False\n",
        "\t\n",
        "# 설정\n",
        "path = '/usr/share/fonts/truetype/nanum/NanumGothicBold.ttf'\n",
        "font_name = fm.FontProperties(fname=path, size=18).get_name()\n",
        "plt.rc('font', family=font_name)\n",
        "fm._rebuild()\n",
        "\n",
        "# seaborn 라이브러리로 시각화할 때 한글 깨짐 현상 해결"
      ],
      "metadata": {
        "id": "f-0xwrV5Scdc"
      },
      "execution_count": 1,
      "outputs": []
    },
    {
      "cell_type": "markdown",
      "source": [
        "\n",
        "\n",
        "> 1.4 데이터 준비\n",
        "\n"
      ],
      "metadata": {
        "id": "zC04B5_l171N"
      }
    },
    {
      "cell_type": "code",
      "execution_count": 3,
      "metadata": {
        "colab": {
          "base_uri": "https://localhost:8080/",
          "height": 424
        },
        "id": "kGurrhnVL7G3",
        "outputId": "86f7095f-952d-4ffa-b4fe-938cc28a1991"
      },
      "outputs": [
        {
          "output_type": "execute_result",
          "data": {
            "text/plain": [
              "       statsMetaNo centerNm  critYr  ptAge ptSexCd statsTrgtNm  ncsNmvl  \\\n",
              "0            15030  건양대학교병원    2012     24       F         자유업        2   \n",
              "1            15030  건양대학교병원    2012     30       M          무직        2   \n",
              "2            15030  건양대학교병원    2012     34       M         회사원        1   \n",
              "3            15030  건양대학교병원    2012     36       F         자유업        2   \n",
              "4            15030  건양대학교병원    2012     41       F          주부        1   \n",
              "...            ...      ...     ...    ...     ...         ...      ...   \n",
              "21667        15030   가천대길병원    2018     87       M          무직        1   \n",
              "21668        15030   가천대길병원    2018     89       F          무직        1   \n",
              "21669        15030   가천대길병원    2018     89       M          무직        1   \n",
              "21670        15030   가천대길병원    2018     91       F          무직        1   \n",
              "21671        15030   가천대길병원    2018     91       M          무직        2   \n",
              "\n",
              "       wholNcsDnmvl  ptCntNmvl  wholPtCntDnmvl  \n",
              "0                 2          1               1  \n",
              "1                 2          1               1  \n",
              "2                 1          1               1  \n",
              "3                 2          1               1  \n",
              "4                 1          1               1  \n",
              "...             ...        ...             ...  \n",
              "21667             1          1               1  \n",
              "21668             1          1               1  \n",
              "21669             1          1               1  \n",
              "21670             1          1               1  \n",
              "21671             2          1               1  \n",
              "\n",
              "[21672 rows x 10 columns]"
            ],
            "text/html": [
              "\n",
              "  <div id=\"df-1e015352-6024-4f93-86c1-791cf0e39425\">\n",
              "    <div class=\"colab-df-container\">\n",
              "      <div>\n",
              "<style scoped>\n",
              "    .dataframe tbody tr th:only-of-type {\n",
              "        vertical-align: middle;\n",
              "    }\n",
              "\n",
              "    .dataframe tbody tr th {\n",
              "        vertical-align: top;\n",
              "    }\n",
              "\n",
              "    .dataframe thead th {\n",
              "        text-align: right;\n",
              "    }\n",
              "</style>\n",
              "<table border=\"1\" class=\"dataframe\">\n",
              "  <thead>\n",
              "    <tr style=\"text-align: right;\">\n",
              "      <th></th>\n",
              "      <th>statsMetaNo</th>\n",
              "      <th>centerNm</th>\n",
              "      <th>critYr</th>\n",
              "      <th>ptAge</th>\n",
              "      <th>ptSexCd</th>\n",
              "      <th>statsTrgtNm</th>\n",
              "      <th>ncsNmvl</th>\n",
              "      <th>wholNcsDnmvl</th>\n",
              "      <th>ptCntNmvl</th>\n",
              "      <th>wholPtCntDnmvl</th>\n",
              "    </tr>\n",
              "  </thead>\n",
              "  <tbody>\n",
              "    <tr>\n",
              "      <th>0</th>\n",
              "      <td>15030</td>\n",
              "      <td>건양대학교병원</td>\n",
              "      <td>2012</td>\n",
              "      <td>24</td>\n",
              "      <td>F</td>\n",
              "      <td>자유업</td>\n",
              "      <td>2</td>\n",
              "      <td>2</td>\n",
              "      <td>1</td>\n",
              "      <td>1</td>\n",
              "    </tr>\n",
              "    <tr>\n",
              "      <th>1</th>\n",
              "      <td>15030</td>\n",
              "      <td>건양대학교병원</td>\n",
              "      <td>2012</td>\n",
              "      <td>30</td>\n",
              "      <td>M</td>\n",
              "      <td>무직</td>\n",
              "      <td>2</td>\n",
              "      <td>2</td>\n",
              "      <td>1</td>\n",
              "      <td>1</td>\n",
              "    </tr>\n",
              "    <tr>\n",
              "      <th>2</th>\n",
              "      <td>15030</td>\n",
              "      <td>건양대학교병원</td>\n",
              "      <td>2012</td>\n",
              "      <td>34</td>\n",
              "      <td>M</td>\n",
              "      <td>회사원</td>\n",
              "      <td>1</td>\n",
              "      <td>1</td>\n",
              "      <td>1</td>\n",
              "      <td>1</td>\n",
              "    </tr>\n",
              "    <tr>\n",
              "      <th>3</th>\n",
              "      <td>15030</td>\n",
              "      <td>건양대학교병원</td>\n",
              "      <td>2012</td>\n",
              "      <td>36</td>\n",
              "      <td>F</td>\n",
              "      <td>자유업</td>\n",
              "      <td>2</td>\n",
              "      <td>2</td>\n",
              "      <td>1</td>\n",
              "      <td>1</td>\n",
              "    </tr>\n",
              "    <tr>\n",
              "      <th>4</th>\n",
              "      <td>15030</td>\n",
              "      <td>건양대학교병원</td>\n",
              "      <td>2012</td>\n",
              "      <td>41</td>\n",
              "      <td>F</td>\n",
              "      <td>주부</td>\n",
              "      <td>1</td>\n",
              "      <td>1</td>\n",
              "      <td>1</td>\n",
              "      <td>1</td>\n",
              "    </tr>\n",
              "    <tr>\n",
              "      <th>...</th>\n",
              "      <td>...</td>\n",
              "      <td>...</td>\n",
              "      <td>...</td>\n",
              "      <td>...</td>\n",
              "      <td>...</td>\n",
              "      <td>...</td>\n",
              "      <td>...</td>\n",
              "      <td>...</td>\n",
              "      <td>...</td>\n",
              "      <td>...</td>\n",
              "    </tr>\n",
              "    <tr>\n",
              "      <th>21667</th>\n",
              "      <td>15030</td>\n",
              "      <td>가천대길병원</td>\n",
              "      <td>2018</td>\n",
              "      <td>87</td>\n",
              "      <td>M</td>\n",
              "      <td>무직</td>\n",
              "      <td>1</td>\n",
              "      <td>1</td>\n",
              "      <td>1</td>\n",
              "      <td>1</td>\n",
              "    </tr>\n",
              "    <tr>\n",
              "      <th>21668</th>\n",
              "      <td>15030</td>\n",
              "      <td>가천대길병원</td>\n",
              "      <td>2018</td>\n",
              "      <td>89</td>\n",
              "      <td>F</td>\n",
              "      <td>무직</td>\n",
              "      <td>1</td>\n",
              "      <td>1</td>\n",
              "      <td>1</td>\n",
              "      <td>1</td>\n",
              "    </tr>\n",
              "    <tr>\n",
              "      <th>21669</th>\n",
              "      <td>15030</td>\n",
              "      <td>가천대길병원</td>\n",
              "      <td>2018</td>\n",
              "      <td>89</td>\n",
              "      <td>M</td>\n",
              "      <td>무직</td>\n",
              "      <td>1</td>\n",
              "      <td>1</td>\n",
              "      <td>1</td>\n",
              "      <td>1</td>\n",
              "    </tr>\n",
              "    <tr>\n",
              "      <th>21670</th>\n",
              "      <td>15030</td>\n",
              "      <td>가천대길병원</td>\n",
              "      <td>2018</td>\n",
              "      <td>91</td>\n",
              "      <td>F</td>\n",
              "      <td>무직</td>\n",
              "      <td>1</td>\n",
              "      <td>1</td>\n",
              "      <td>1</td>\n",
              "      <td>1</td>\n",
              "    </tr>\n",
              "    <tr>\n",
              "      <th>21671</th>\n",
              "      <td>15030</td>\n",
              "      <td>가천대길병원</td>\n",
              "      <td>2018</td>\n",
              "      <td>91</td>\n",
              "      <td>M</td>\n",
              "      <td>무직</td>\n",
              "      <td>2</td>\n",
              "      <td>2</td>\n",
              "      <td>1</td>\n",
              "      <td>1</td>\n",
              "    </tr>\n",
              "  </tbody>\n",
              "</table>\n",
              "<p>21672 rows × 10 columns</p>\n",
              "</div>\n",
              "      <button class=\"colab-df-convert\" onclick=\"convertToInteractive('df-1e015352-6024-4f93-86c1-791cf0e39425')\"\n",
              "              title=\"Convert this dataframe to an interactive table.\"\n",
              "              style=\"display:none;\">\n",
              "        \n",
              "  <svg xmlns=\"http://www.w3.org/2000/svg\" height=\"24px\"viewBox=\"0 0 24 24\"\n",
              "       width=\"24px\">\n",
              "    <path d=\"M0 0h24v24H0V0z\" fill=\"none\"/>\n",
              "    <path d=\"M18.56 5.44l.94 2.06.94-2.06 2.06-.94-2.06-.94-.94-2.06-.94 2.06-2.06.94zm-11 1L8.5 8.5l.94-2.06 2.06-.94-2.06-.94L8.5 2.5l-.94 2.06-2.06.94zm10 10l.94 2.06.94-2.06 2.06-.94-2.06-.94-.94-2.06-.94 2.06-2.06.94z\"/><path d=\"M17.41 7.96l-1.37-1.37c-.4-.4-.92-.59-1.43-.59-.52 0-1.04.2-1.43.59L10.3 9.45l-7.72 7.72c-.78.78-.78 2.05 0 2.83L4 21.41c.39.39.9.59 1.41.59.51 0 1.02-.2 1.41-.59l7.78-7.78 2.81-2.81c.8-.78.8-2.07 0-2.86zM5.41 20L4 18.59l7.72-7.72 1.47 1.35L5.41 20z\"/>\n",
              "  </svg>\n",
              "      </button>\n",
              "      \n",
              "  <style>\n",
              "    .colab-df-container {\n",
              "      display:flex;\n",
              "      flex-wrap:wrap;\n",
              "      gap: 12px;\n",
              "    }\n",
              "\n",
              "    .colab-df-convert {\n",
              "      background-color: #E8F0FE;\n",
              "      border: none;\n",
              "      border-radius: 50%;\n",
              "      cursor: pointer;\n",
              "      display: none;\n",
              "      fill: #1967D2;\n",
              "      height: 32px;\n",
              "      padding: 0 0 0 0;\n",
              "      width: 32px;\n",
              "    }\n",
              "\n",
              "    .colab-df-convert:hover {\n",
              "      background-color: #E2EBFA;\n",
              "      box-shadow: 0px 1px 2px rgba(60, 64, 67, 0.3), 0px 1px 3px 1px rgba(60, 64, 67, 0.15);\n",
              "      fill: #174EA6;\n",
              "    }\n",
              "\n",
              "    [theme=dark] .colab-df-convert {\n",
              "      background-color: #3B4455;\n",
              "      fill: #D2E3FC;\n",
              "    }\n",
              "\n",
              "    [theme=dark] .colab-df-convert:hover {\n",
              "      background-color: #434B5C;\n",
              "      box-shadow: 0px 1px 3px 1px rgba(0, 0, 0, 0.15);\n",
              "      filter: drop-shadow(0px 1px 2px rgba(0, 0, 0, 0.3));\n",
              "      fill: #FFFFFF;\n",
              "    }\n",
              "  </style>\n",
              "\n",
              "      <script>\n",
              "        const buttonEl =\n",
              "          document.querySelector('#df-1e015352-6024-4f93-86c1-791cf0e39425 button.colab-df-convert');\n",
              "        buttonEl.style.display =\n",
              "          google.colab.kernel.accessAllowed ? 'block' : 'none';\n",
              "\n",
              "        async function convertToInteractive(key) {\n",
              "          const element = document.querySelector('#df-1e015352-6024-4f93-86c1-791cf0e39425');\n",
              "          const dataTable =\n",
              "            await google.colab.kernel.invokeFunction('convertToInteractive',\n",
              "                                                     [key], {});\n",
              "          if (!dataTable) return;\n",
              "\n",
              "          const docLinkHtml = 'Like what you see? Visit the ' +\n",
              "            '<a target=\"_blank\" href=https://colab.research.google.com/notebooks/data_table.ipynb>data table notebook</a>'\n",
              "            + ' to learn more about interactive tables.';\n",
              "          element.innerHTML = '';\n",
              "          dataTable['output_type'] = 'display_data';\n",
              "          await google.colab.output.renderOutput(dataTable, element);\n",
              "          const docLink = document.createElement('div');\n",
              "          docLink.innerHTML = docLinkHtml;\n",
              "          element.appendChild(docLink);\n",
              "        }\n",
              "      </script>\n",
              "    </div>\n",
              "  </div>\n",
              "  "
            ]
          },
          "metadata": {},
          "execution_count": 3
        }
      ],
      "source": [
        "import pandas as pd\n",
        "import numpy as np\n",
        "import seaborn as sns\n",
        "import matplotlib.pyplot as plt\n",
        "\n",
        "# csv파일은 깃허브주소 참조\n",
        "# csv파일을 읽어 cp949로 인코딩\n",
        "df_1 = pd.read_csv('/content/cancerData.csv', encoding='cp949')\n",
        "df_1"
      ]
    },
    {
      "cell_type": "markdown",
      "source": [
        "# 2. 직업으로 분류한 대장암 환자 수\n",
        "\n",
        "\n",
        "---\n",
        "\n"
      ],
      "metadata": {
        "id": "0D7AGaG6_opV"
      }
    },
    {
      "cell_type": "markdown",
      "source": [
        "2.1 대장암 환자 직업 조사"
      ],
      "metadata": {
        "id": "3rvFp8xJAVVx"
      }
    },
    {
      "cell_type": "code",
      "source": [
        "# 크기 설정\n",
        "plt.figure(figsize=(12, 7))\n",
        "\n",
        "# 직업 별 대장암 환자 수\n",
        "sns.countplot(data=df_1, x='statsTrgtNm')\n",
        "\n",
        "plt.show()"
      ],
      "metadata": {
        "colab": {
          "base_uri": "https://localhost:8080/",
          "height": 441
        },
        "id": "uSc_d6Lvku7Q",
        "outputId": "1d30fbc1-0f67-4ccd-a710-851f99617d20"
      },
      "execution_count": 4,
      "outputs": [
        {
          "output_type": "display_data",
          "data": {
            "text/plain": [
              "<Figure size 864x504 with 1 Axes>"
            ],
            "image/png": "[encoded data removed]"
          },
          "metadata": {
            "needs_background": "light"
          }
        }
      ]
    },
    {
      "cell_type": "markdown",
      "source": [
        "2.2 직업 유무에 따른 대장암 환자 수"
      ],
      "metadata": {
        "id": "X-kD_puxAJ4F"
      }
    },
    {
      "cell_type": "code",
      "source": [
        "# 직업이 있으면 직업 있음, 없으면 무직으로 분류\n",
        "# 주부, 학생도 직업으로 분류\n",
        "df_job = df_1\n",
        "df_job = df_job.assign(jobYN = np.where(df_job['statsTrgtNm'] == '무직', '무직', '직업 있음'))\n",
        "\n",
        "# 값을 세어 출력\n",
        "df_job['jobYN'].value_counts()"
      ],
      "metadata": {
        "colab": {
          "base_uri": "https://localhost:8080/"
        },
        "id": "MXKv2cu8qrn0",
        "outputId": "5241137c-78b1-4513-c571-968c4daefc83"
      },
      "execution_count": 5,
      "outputs": [
        {
          "output_type": "execute_result",
          "data": {
            "text/plain": [
              "직업 있음    17307\n",
              "무직        4365\n",
              "Name: jobYN, dtype: int64"
            ]
          },
          "metadata": {},
          "execution_count": 5
        }
      ]
    },
    {
      "cell_type": "code",
      "source": [
        "sns.countplot(data=df_job, x='jobYN')"
      ],
      "metadata": {
        "colab": {
          "base_uri": "https://localhost:8080/",
          "height": 296
        },
        "id": "1xQ9pMA1rWz9",
        "outputId": "23c45555-7b21-469f-9e21-c7f7da07104c"
      },
      "execution_count": 145,
      "outputs": [
        {
          "output_type": "execute_result",
          "data": {
            "text/plain": [
              "<matplotlib.axes._subplots.AxesSubplot at 0x7f7938dec670>"
            ]
          },
          "metadata": {},
          "execution_count": 145
        },
        {
          "output_type": "display_data",
          "data": {
            "text/plain": [
              "<Figure size 432x288 with 1 Axes>"
            ],
            "image/png": "[encoded data removed]"
          },
          "metadata": {
            "needs_background": "light"
          }
        }
      ]
    },
    {
      "cell_type": "markdown",
      "source": [
        "# 3. 연령으로 분류한 대장암 환자 수\n",
        "\n",
        "---\n"
      ],
      "metadata": {
        "id": "3REO-PqbAf1U"
      }
    },
    {
      "cell_type": "markdown",
      "source": [
        "3.1 대장암 환자 연령 조사"
      ],
      "metadata": {
        "id": "r0c9IGpxAw1j"
      }
    },
    {
      "cell_type": "code",
      "source": [
        "# 크기 설정\n",
        "plt.figure(figsize=(25, 10))\n",
        "\n",
        "# 동일한 연령에서 대장암 환자 수를 시각화\n",
        "sns.countplot(data=df_1, x='ptAge')\n",
        "plt.show()"
      ],
      "metadata": {
        "colab": {
          "base_uri": "https://localhost:8080/",
          "height": 590
        },
        "id": "RRT-iYLdVJl1",
        "outputId": "ee8bbe32-4e8c-488b-c677-22eac953137e"
      },
      "execution_count": 6,
      "outputs": [
        {
          "output_type": "display_data",
          "data": {
            "text/plain": [
              "<Figure size 1800x720 with 1 Axes>"
            ],
            "image/png": "[encoded data removed]"
          },
          "metadata": {
            "needs_background": "light"
          }
        }
      ]
    },
    {
      "cell_type": "markdown",
      "source": [
        "3.2 연령대로 나눈 환자 수"
      ],
      "metadata": {
        "id": "1fUZmMIGA3lT"
      }
    },
    {
      "cell_type": "code",
      "source": [
        "# 10대부터 90대 이상까지 분류하기\n",
        "# df_job를 사용하여 직업 유무도 표현할 수 있게 하기\n",
        "df_age = df_job\n",
        "df_age = df_age.assign(ageg = np.where(df_age['ptAge'] < 20, '10대',\n",
        "                              np.where(df_age['ptAge'] < 30, '20대',\n",
        "                              np.where(df_age['ptAge'] < 40, '30대',\n",
        "                              np.where(df_age['ptAge'] < 50, '40대',\n",
        "                              np.where(df_age['ptAge'] < 60, '50대',\n",
        "                              np.where(df_age['ptAge'] < 70, '60대',\n",
        "                              np.where(df_age['ptAge'] < 80, '70대',\n",
        "                              np.where(df_age['ptAge'] < 90, '80대', '90대 이상')))))))))\n",
        "\n",
        "df_age['ageg'].value_counts()"
      ],
      "metadata": {
        "colab": {
          "base_uri": "https://localhost:8080/"
        },
        "id": "y6ijUTRvS_3j",
        "outputId": "b7c8f810-74a6-47ac-f33d-63a8656f016f"
      },
      "execution_count": 7,
      "outputs": [
        {
          "output_type": "execute_result",
          "data": {
            "text/plain": [
              "60대       5050\n",
              "50대       5028\n",
              "70대       4390\n",
              "40대       3026\n",
              "80대       2386\n",
              "30대       1225\n",
              "90대 이상     279\n",
              "20대        261\n",
              "10대         27\n",
              "Name: ageg, dtype: int64"
            ]
          },
          "metadata": {},
          "execution_count": 7
        }
      ]
    },
    {
      "cell_type": "code",
      "source": [
        "# 크기 설정\n",
        "plt.figure(figsize=(12, 7))\n",
        "\n",
        "# 위에서 분류한 연령대별환자 분류를 10대에서부터 오름차순으로 나오도록 정렬\n",
        "sns.countplot(data=df_age, x='ageg', order=['10대', '20대', '30대', '40대', '50대', '60대', '70대', '80대', '90대 이상'])"
      ],
      "metadata": {
        "colab": {
          "base_uri": "https://localhost:8080/",
          "height": 459
        },
        "id": "MxeSQt8JqHDD",
        "outputId": "d0eaa7d7-2c11-4ea2-b68e-f248672515f3"
      },
      "execution_count": 8,
      "outputs": [
        {
          "output_type": "execute_result",
          "data": {
            "text/plain": [
              "<matplotlib.axes._subplots.AxesSubplot at 0x7fc3a4c40fd0>"
            ]
          },
          "metadata": {},
          "execution_count": 8
        },
        {
          "output_type": "display_data",
          "data": {
            "text/plain": [
              "<Figure size 864x504 with 1 Axes>"
            ],
            "image/png": "[encoded data removed]"
          },
          "metadata": {
            "needs_background": "light"
          }
        }
      ]
    },
    {
      "cell_type": "code",
      "source": [
        "# 크기 설정\n",
        "plt.figure(figsize=(12, 7))\n",
        "\n",
        "# 위의 차트에서 직업 유무까지 추가\n",
        "sns.countplot(data=df_age, x='ageg', hue='jobYN', order=['10대', '20대', '30대', '40대', '50대', '60대', '70대', '80대', '90대 이상'])"
      ],
      "metadata": {
        "colab": {
          "base_uri": "https://localhost:8080/",
          "height": 459
        },
        "id": "G4pDE8SviHTa",
        "outputId": "96fa2bac-888a-4c2e-bda7-86cb43f1f406"
      },
      "execution_count": 9,
      "outputs": [
        {
          "output_type": "execute_result",
          "data": {
            "text/plain": [
              "<matplotlib.axes._subplots.AxesSubplot at 0x7fc3a43f2640>"
            ]
          },
          "metadata": {},
          "execution_count": 9
        },
        {
          "output_type": "display_data",
          "data": {
            "text/plain": [
              "<Figure size 864x504 with 1 Axes>"
            ],
            "image/png": "[encoded data removed]"
          },
          "metadata": {
            "needs_background": "light"
          }
        }
      ]
    },
    {
      "cell_type": "markdown",
      "source": [
        "# 4. 성별로 분류한 대장암 환자 수\n",
        "\n",
        "---\n",
        "\n"
      ],
      "metadata": {
        "id": "jh87vkbhBEzW"
      }
    },
    {
      "cell_type": "markdown",
      "source": [
        "4.1 대장암 환자의 남녀 비율 조사"
      ],
      "metadata": {
        "id": "3vKpVxUCBXU8"
      }
    },
    {
      "cell_type": "code",
      "source": [
        "# 크기 설정\n",
        "plt.figure(figsize=(5, 5))\n",
        "\n",
        "# 성별 별 환자를 그룹으로 묶기\n",
        "result=df_1.groupby('ptSexCd')['ptSexCd'].count()\n",
        "\n",
        "# pie에 표기할 라벨 붙이기\n",
        "labels=['여자', '남자']\n",
        "\n",
        "# pie에 label과 비율 표기, 각도 설정, 색 설정\n",
        "plt.pie(result, labels=labels, autopct='%.1f%%', startangle=270, colors=['violet', 'dodgerblue'])"
      ],
      "metadata": {
        "colab": {
          "base_uri": "https://localhost:8080/",
          "height": 412
        },
        "id": "8nNwiDOlVgDz",
        "outputId": "14045fb8-b174-4692-9bb4-f1430916545d"
      },
      "execution_count": 10,
      "outputs": [
        {
          "output_type": "execute_result",
          "data": {
            "text/plain": [
              "([<matplotlib.patches.Wedge at 0x7fc3a47b4400>,\n",
              "  <matplotlib.patches.Wedge at 0x7fc3a47b4d90>],\n",
              " [Text(1.0899761209030627, -0.14816226193303117, '여자'),\n",
              "  Text(-1.089976120903063, 0.14816226193303034, '남자')],\n",
              " [Text(0.5945324295834887, -0.0808157792361988, '45.7%'),\n",
              "  Text(-0.5945324295834887, 0.08081577923619836, '54.3%')])"
            ]
          },
          "metadata": {},
          "execution_count": 10
        },
        {
          "output_type": "display_data",
          "data": {
            "text/plain": [
              "<Figure size 360x360 with 1 Axes>"
            ],
            "image/png": "[encoded data removed]"
          },
          "metadata": {}
        }
      ]
    },
    {
      "cell_type": "markdown",
      "source": [
        "# 5. 연도로 분류한 대장암 환자 수\n",
        "\n",
        "---\n",
        "\n"
      ],
      "metadata": {
        "id": "RkzKbfckCi2x"
      }
    },
    {
      "cell_type": "markdown",
      "source": [
        "5.1 연도별 대장암 환자 수 조사"
      ],
      "metadata": {
        "id": "fga5mp89Cr9Q"
      }
    },
    {
      "cell_type": "code",
      "source": [
        "# 크기 설정\n",
        "plt.figure(figsize=(10, 5))\n",
        "\n",
        "# 연도별 환자 수를 표시\n",
        "sns.countplot(data=df_1, x='critYr')\n",
        "\n",
        "# 라벨 붙이기\n",
        "plt.xlabel('연도')\n",
        "plt.ylabel('환자 수')\n",
        "plt.title('연도별 환자 수')\n",
        "plt.show()\n"
      ],
      "metadata": {
        "colab": {
          "base_uri": "https://localhost:8080/",
          "height": 347
        },
        "id": "O3jJRltiE4Gk",
        "outputId": "06e324ff-2827-49dd-e3ed-d05de34ecca9"
      },
      "execution_count": 50,
      "outputs": [
        {
          "output_type": "display_data",
          "data": {
            "text/plain": [
              "<Figure size 720x360 with 1 Axes>"
            ],
            "image/png": "[encoded data removed]"
          },
          "metadata": {
            "needs_background": "light"
          }
        }
      ]
    }
  ]
}
